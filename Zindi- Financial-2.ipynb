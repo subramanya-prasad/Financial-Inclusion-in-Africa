{
  "cells": [
    {
      "metadata": {
        "trusted": true
      },
      "cell_type": "code",
      "source": "\nimport pandas as pd\nfrom imblearn.over_sampling import SMOTE\nfrom sklearn.preprocessing import StandardScaler\nfrom sklearn.model_selection import train_test_split\n\nsm = SMOTE(random_state=42)\ndf = pd.read_csv('Train_v2.csv')\ntst = pd.read_csv('Test_v2.csv')\n\ndf['input'] ='Train'\ntst['input'] = 'Test'\nprint(df.shape)\nprint(tst.shape)",
      "execution_count": 1,
      "outputs": [
        {
          "output_type": "stream",
          "text": "/home/nbuser/anaconda3_420/lib/python3.5/site-packages/h5py/__init__.py:36: FutureWarning: Conversion of the second argument of issubdtype from `float` to `np.floating` is deprecated. In future, it will be treated as `np.float64 == np.dtype(float).type`.\n  from ._conv import register_converters as _register_converters\nUsing TensorFlow backend.\n/home/nbuser/anaconda3_420/lib/python3.5/site-packages/tensorflow/python/framework/dtypes.py:455: FutureWarning: Passing (type, 1) or '1type' as a synonym of type is deprecated; in a future version of numpy, it will be understood as (type, (1,)) / '(1,)type'.\n  _np_qint8 = np.dtype([(\"qint8\", np.int8, 1)])\n/home/nbuser/anaconda3_420/lib/python3.5/site-packages/tensorflow/python/framework/dtypes.py:456: FutureWarning: Passing (type, 1) or '1type' as a synonym of type is deprecated; in a future version of numpy, it will be understood as (type, (1,)) / '(1,)type'.\n  _np_quint8 = np.dtype([(\"quint8\", np.uint8, 1)])\n/home/nbuser/anaconda3_420/lib/python3.5/site-packages/tensorflow/python/framework/dtypes.py:457: FutureWarning: Passing (type, 1) or '1type' as a synonym of type is deprecated; in a future version of numpy, it will be understood as (type, (1,)) / '(1,)type'.\n  _np_qint16 = np.dtype([(\"qint16\", np.int16, 1)])\n/home/nbuser/anaconda3_420/lib/python3.5/site-packages/tensorflow/python/framework/dtypes.py:458: FutureWarning: Passing (type, 1) or '1type' as a synonym of type is deprecated; in a future version of numpy, it will be understood as (type, (1,)) / '(1,)type'.\n  _np_quint16 = np.dtype([(\"quint16\", np.uint16, 1)])\n/home/nbuser/anaconda3_420/lib/python3.5/site-packages/tensorflow/python/framework/dtypes.py:459: FutureWarning: Passing (type, 1) or '1type' as a synonym of type is deprecated; in a future version of numpy, it will be understood as (type, (1,)) / '(1,)type'.\n  _np_qint32 = np.dtype([(\"qint32\", np.int32, 1)])\n/home/nbuser/anaconda3_420/lib/python3.5/site-packages/tensorflow/python/framework/dtypes.py:462: FutureWarning: Passing (type, 1) or '1type' as a synonym of type is deprecated; in a future version of numpy, it will be understood as (type, (1,)) / '(1,)type'.\n  np_resource = np.dtype([(\"resource\", np.ubyte, 1)])\n",
          "name": "stderr"
        },
        {
          "output_type": "stream",
          "text": "(23524, 14)\n(10086, 13)\n",
          "name": "stdout"
        }
      ]
    },
    {
      "metadata": {
        "trusted": true
      },
      "cell_type": "code",
      "source": "df = pd.concat([df,tst], axis=0)",
      "execution_count": 2,
      "outputs": []
    },
    {
      "metadata": {
        "trusted": true
      },
      "cell_type": "code",
      "source": "import matplotlib.pyplot as plt\ndf.groupby(['country','bank_account'])['country'].count().plot.bar()",
      "execution_count": 3,
      "outputs": [
        {
          "output_type": "execute_result",
          "execution_count": 3,
          "data": {
            "text/plain": "<matplotlib.axes._subplots.AxesSubplot at 0x7f358354aef0>"
          },
          "metadata": {}
        }
      ]
    },
    {
      "metadata": {
        "trusted": true
      },
      "cell_type": "code",
      "source": "ob_fe = df.select_dtypes(include=['object'])\nob_fe =ob_fe.drop(['uniqueid'], axis=1)\nob_fe1 = pd.get_dummies(ob_fe)\nint_fe = df.select_dtypes(include=['float64','int64'])\nfin = pd.concat([df['uniqueid'],int_fe,ob_fe1], axis=1)\n\n#fin = pd.concat([fin[fin['input_Train']==1],fin[fin['input_Test']==1]],axis=0)\n\ntrain = fin[fin['input_Train']==1]\ntest = fin[fin['input_Test']==1]",
      "execution_count": 4,
      "outputs": []
    },
    {
      "metadata": {
        "trusted": true
      },
      "cell_type": "code",
      "source": "X=train\nX = X.drop(['uniqueid','bank_account_No','bank_account_Yes','location_type_Rural','cellphone_access_No','gender_of_respondent_Female','input_Test', 'input_Train'],axis=1)\nY= train['bank_account_Yes']\n\n# X_res, Y_res = sm.fit_resample(X, Y)\n\n# X=pd.DataFrame(X_res, columns=X.columns)\n# Y=pd.Series(Y_res)\n\nsclar = StandardScaler()\nsclar.fit(X)\nX=sclar.transform(X)\n",
      "execution_count": 38,
      "outputs": []
    },
    {
      "metadata": {
        "trusted": true
      },
      "cell_type": "code",
      "source": "X_test=test\nX_test = X_test.drop(['uniqueid','bank_account_No','bank_account_Yes','location_type_Rural','cellphone_access_No','gender_of_respondent_Female','input_Test', 'input_Train'],axis=1)\nY_test= test['bank_account_Yes']\n\n\nsclar = StandardScaler()\nsclar.fit(X_test)\nX_test=sclar.transform(X_test)\ny_pred_test = pd.Series(clf.predict(X_test))",
      "execution_count": 41,
      "outputs": []
    },
    {
      "metadata": {
        "trusted": true
      },
      "cell_type": "code",
      "source": "from sklearn.ensemble import RandomForestClassifier\nfrom sklearn.metrics import classification_report\nfrom sklearn.metrics import roc_auc_score\nfrom sklearn.metrics import accuracy_score\ntrain_X, val_X, train_y, val_y = train_test_split(X, Y, random_state=1,test_size=0.3)\n\nclf = RandomForestClassifier(n_estimators=500, max_depth=8, random_state=21 ,oob_score=True)\nclf.fit(train_X,train_y)\ny_pred = clf.predict(train_X)\n\nimport matplotlib.pyplot as plt\nimport numpy as np\nfrom sklearn.model_selection import cross_val_score\n\nprint(classification_report(train_y, y_pred))\nprint(accuracy_score(train_y, y_pred))\nprint(cross_val_score(clf, train_X, train_y, cv=5)) \nprint(accuracy_score(val_y,clf.predict(val_X)))\n\ny_pred_test_rf = clf.predict(X_test)\n\n#feat_importances = pd.Series(clf.feature_importances_, index=X.columns)\n#feat_importances.nlargest(25)",
      "execution_count": 75,
      "outputs": [
        {
          "output_type": "stream",
          "text": "              precision    recall  f1-score   support\n\n           0       0.90      0.99      0.94     14146\n           1       0.85      0.30      0.44      2320\n\n    accuracy                           0.89     16466\n   macro avg       0.87      0.64      0.69     16466\nweighted avg       0.89      0.89      0.87     16466\n\n0.893598931130815\n[0.88160291 0.88338901 0.89462496 0.8870331  0.88733677]\n0.8826863134032303\n",
          "name": "stdout"
        }
      ]
    },
    {
      "metadata": {
        "trusted": true
      },
      "cell_type": "code",
      "source": "import xgboost as xgb\nparam = {'max_depth':2, 'eta':1, 'objective':'binary:logistic' }\nnum_round = 2\n\n# fit model no training data\nmodel = xgb.XGBClassifier(num_round=50, max_depth=8, objective='binary:logistic',eta=1)\nmodel.fit(train_X, train_y)\ny_pred = model.predict(train_X)\n\nprint(classification_report(train_y, y_pred))\nprint(accuracy_score(train_y, y_pred))\nprint(cross_val_score(model, train_X, train_y, cv=5)) \n\n\ny_pred_test_xgb = model.predict(X_test)\nprint(sum(y_pred_test))\n#predictions = [round(value) for value in y_pred]",
      "execution_count": 76,
      "outputs": [
        {
          "output_type": "stream",
          "text": "              precision    recall  f1-score   support\n\n           0       0.92      0.98      0.95     14146\n           1       0.83      0.49      0.61      2320\n\n    accuracy                           0.91     16466\n   macro avg       0.88      0.73      0.78     16466\nweighted avg       0.91      0.91      0.90     16466\n\n0.9136402283493259\n[0.88251366 0.88490738 0.89371394 0.88369268 0.88217431]\n616\n",
          "name": "stdout"
        }
      ]
    },
    {
      "metadata": {
        "trusted": true
      },
      "cell_type": "code",
      "source": "from sklearn.svm import SVC\nclf = SVC(gamma='auto')\nclf.fit(train_X, train_y)\ny_pred = clf.predict(train_X)\n\n\nprint(classification_report(train_y, y_pred))\nprint(accuracy_score(train_y, y_pred))\nprint(cross_val_score(clf, train_X, train_y, cv=5)) \n\n\ny_pred_test_svm = clf.predict(X_test)\nprint(sum(y_pred_test))\n",
      "execution_count": 78,
      "outputs": [
        {
          "output_type": "stream",
          "text": "              precision    recall  f1-score   support\n\n           0       0.90      0.98      0.94     14146\n           1       0.79      0.35      0.48      2320\n\n    accuracy                           0.89     16466\n   macro avg       0.85      0.67      0.71     16466\nweighted avg       0.89      0.89      0.88     16466\n\n0.8948742864083566\n[0.87978142 0.88521105 0.8988764  0.88855147 0.88733677]\n616\n",
          "name": "stdout"
        }
      ]
    },
    {
      "metadata": {
        "trusted": true
      },
      "cell_type": "code",
      "source": "y_pred_test_xgb",
      "execution_count": 80,
      "outputs": [
        {
          "output_type": "execute_result",
          "execution_count": 80,
          "data": {
            "text/plain": "array([1, 1, 0, ..., 0, 0, 0], dtype=uint8)"
          },
          "metadata": {}
        }
      ]
    },
    {
      "metadata": {
        "trusted": true
      },
      "cell_type": "code",
      "source": "score =pd.DataFrame(pd.concat([pd.Series(y_pred_test_rf),pd.Series(y_pred_test_xgb),pd.Series(y_pred_test_svm)],axis=1))",
      "execution_count": 82,
      "outputs": []
    },
    {
      "metadata": {
        "trusted": true
      },
      "cell_type": "code",
      "source": "submission= pd.Series(tst['uniqueid'] + \" x \"+ tst['country'])\nsubmission = pd.concat([submission,score],axis=1)\nsubmission.rename(columns={0:'uniqueid',1:'bank_account'},inplace=True)",
      "execution_count": 87,
      "outputs": []
    },
    {
      "metadata": {
        "trusted": true
      },
      "cell_type": "code",
      "source": "submission.to_csv('SubmissionFile.csv', index=False)",
      "execution_count": 88,
      "outputs": []
    },
    {
      "metadata": {
        "trusted": true
      },
      "cell_type": "code",
      "source": "from keras.models import Sequential\nfrom keras.layers import Dense, Activation, Dropout",
      "execution_count": 82,
      "outputs": []
    },
    {
      "metadata": {
        "trusted": true
      },
      "cell_type": "code",
      "source": "model = Sequential()\nmodel.add(Dense(128, activation=\"relu\", input_shape = (train_X.shape[1],))) # Hidden Layer 1 that receives the Input from the Input Layer\n\nmodel.add(Dense(64, activation=\"relu\")) # Hidden Layer 2\nmodel.add(Dropout(0.2))\n\nmodel.add(Dense(32, activation=\"relu\")) # Hidden Layer 3\nmodel.add(Dropout(0.2))\n\nmodel.add(Dense(16, activation=\"relu\")) # Hidden Layer 4\nmodel.add(Dropout(0.2))\n\n\nmodel.add(Dense(1, activation=\"sigmoid\")) # Outout Layer\n\nmodel.summary()\n\nmodel.compile(optimizer='adam', loss = \"binary_crossentropy\", metrics = ['accuracy'])",
      "execution_count": 86,
      "outputs": [
        {
          "output_type": "stream",
          "text": "_________________________________________________________________\nLayer (type)                 Output Shape              Param #   \n=================================================================\ndense_11 (Dense)             (None, 128)               4864      \n_________________________________________________________________\ndense_12 (Dense)             (None, 64)                8256      \n_________________________________________________________________\ndropout_7 (Dropout)          (None, 64)                0         \n_________________________________________________________________\ndense_13 (Dense)             (None, 32)                2080      \n_________________________________________________________________\ndropout_8 (Dropout)          (None, 32)                0         \n_________________________________________________________________\ndense_14 (Dense)             (None, 16)                528       \n_________________________________________________________________\ndropout_9 (Dropout)          (None, 16)                0         \n_________________________________________________________________\ndense_15 (Dense)             (None, 1)                 17        \n=================================================================\nTotal params: 15,745\nTrainable params: 15,745\nNon-trainable params: 0\n_________________________________________________________________\n",
          "name": "stdout"
        }
      ]
    },
    {
      "metadata": {
        "collapsed": true,
        "trusted": true
      },
      "cell_type": "code",
      "source": "",
      "execution_count": null,
      "outputs": []
    }
  ],
  "metadata": {
    "kernelspec": {
      "name": "python3",
      "display_name": "Python 3",
      "language": "python"
    },
    "language_info": {
      "mimetype": "text/x-python",
      "nbconvert_exporter": "python",
      "name": "python",
      "file_extension": ".py",
      "version": "3.5.4",
      "pygments_lexer": "ipython3",
      "codemirror_mode": {
        "version": 3,
        "name": "ipython"
      }
    }
  },
  "nbformat": 4,
  "nbformat_minor": 2
}